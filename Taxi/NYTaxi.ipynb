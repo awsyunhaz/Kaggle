{
  "cells": [
    {
      "outputs": [],
      "cell_type": "code",
      "source": [
        "# This Python 3 environment comes with many helpful analytics libraries installed\n",
        "# It is defined by the kaggle/python docker image: https://github.com/kaggle/docker-python\n",
        "# For example, here's several helpful packages to load in \n",
        "\n",
        "import numpy as np # linear algebra\n",
        "import pandas as pd # data processing, CSV file I/O (e.g. pd.read_csv)\n",
        "\n",
        "# Input data files are available in the \"../input/\" directory.\n",
        "# For example, running this (by clicking run or pressing Shift+Enter) will list the files in the input directory\n",
        "\n",
        "from subprocess import check_output\n",
        "print(check_output([\"ls\", \"../input\"]).decode(\"utf8\"))\n",
        "\n",
        "# Any results you write to the current directory are saved as output."
      ],
      "metadata": {
        "_cell_guid": "8409ec37-5aef-48d5-b60a-39e2062d784f",
        "_uuid": "12350d9c980bc716624338b2f55429f8042f932d"
      },
      "execution_count": 22
    },
    {
      "outputs": [],
      "cell_type": "code",
      "source": [
        "# data analysis and wrangling\n",
        "import pandas as pd\n",
        "import numpy as np\n",
        "import datetime as dt\n",
        "\n",
        "# visualization\n",
        "import seaborn as sns\n",
        "import matplotlib.pyplot as plt\n",
        "%matplotlib inline\n",
        "\n",
        "# machine learning\n",
        "from sklearn.model_selection import train_test_split\n",
        "from sklearn.cluster import MiniBatchKMeans\n",
        "import xgboost as xgb"
      ],
      "metadata": {
        "_cell_guid": "84d17966-6638-4047-a39b-40db85dc6b61",
        "_uuid": "4b8869962a96db258672f39087dc607248ec7ae0",
        "collapsed": true
      },
      "execution_count": 23
    },
    {
      "outputs": [],
      "cell_type": "code",
      "source": [
        "train_df = pd.read_csv('../input/nyc-taxi-trip-duration/train.csv')\n",
        "test_df = pd.read_csv('../input/nyc-taxi-trip-duration/test.csv')\n",
        "combine_df = pd.concat([train_df,test_df],ignore_index=True)"
      ],
      "metadata": {
        "_cell_guid": "59012bb9-899a-45b2-b741-d3f557624525",
        "_uuid": "7c5bfc2e6c680a25479650c763b248ffac0fc87c",
        "collapsed": true
      },
      "execution_count": 24
    },
    {
      "outputs": [],
      "cell_type": "code",
      "source": [
        "combine_df['store_and_fwd_flag'] = combine_df['store_and_fwd_flag'] == 'Y'\n",
        "combine_df['pickup_datetime'] = pd.to_datetime(combine_df['pickup_datetime'])\n",
        "combine_df['dropoff_datetime'] = pd.to_datetime(combine_df['dropoff_datetime'])\n",
        "combine_df['pickup_date'] = combine_df['pickup_datetime'].dt.date"
      ],
      "metadata": {
        "_cell_guid": "bfd95d88-2a4f-4aa8-a158-4e4b52bfb2b4",
        "_uuid": "5a8ec13da2a8a224abbd017c303ebd4fb4f75449",
        "collapsed": true
      },
      "execution_count": 25
    },
    {
      "outputs": [],
      "cell_type": "code",
      "source": [
        "combine_df['center_longitude'] = (combine_df['pickup_longitude']+combine_df['pickup_longitude'])/2\n",
        "combine_df['center_latitude'] = (combine_df['dropoff_latitude']+combine_df['dropoff_latitude'])/2\n",
        "\n",
        "long_border = (-74.03, -73.75)\n",
        "lat_border = (40.63, 40.85)\n",
        "longitude = list(combine_df['pickup_longitude']) + list(combine_df['dropoff_longitude'])\n",
        "latitude = list(combine_df['pickup_latitude']) + list(combine_df['dropoff_latitude'])\n",
        "# plt.figure(figsize = (10,10))\n",
        "# plt.plot(longitude,latitude, '.', markersize=0.5, alpha=0.5)\n",
        "# plt.xlim(long_border)\n",
        "# plt.ylim(lat_border)\n",
        "# plt.show()"
      ],
      "metadata": {
        "_cell_guid": "22ae411c-560c-42cb-9c2f-db79af326c07",
        "_uuid": "3822ccd37fd9b81cdf7b35b076655b67298d3c69",
        "collapsed": true
      },
      "execution_count": 26
    },
    {
      "outputs": [],
      "cell_type": "code",
      "source": [
        "#Haversine distance\n",
        "def haversine_distance(lat1, lng1, lat2, lng2):\n",
        "    lat1, lng1, lat2, lng2 = map(np.radians, (lat1, lng1, lat2, lng2))\n",
        "    AVG_EARTH_RADIUS = 6371  # in km\n",
        "    lat = lat2 - lat1\n",
        "    lng = lng2 - lng1\n",
        "    h = np.sin(lat * 0.5) ** 2 + np.cos(lat1) * np.cos(lat2) * np.sin(lng * 0.5) ** 2\n",
        "    d = 2 * AVG_EARTH_RADIUS * np.arcsin(np.sqrt(h))\n",
        "    return d\n",
        "\n",
        "combine_df['haversine_distance'] = haversine_distance(combine_df['pickup_latitude'],combine_df['pickup_longitude'],\n",
        "                                                      combine_df['dropoff_latitude'],combine_df['dropoff_longitude'])"
      ],
      "metadata": {
        "_cell_guid": "cd1e33aa-8302-4872-9a7c-2f6da1afc9c5",
        "_uuid": "95c14dbf37ae22e713ac6602224a2905e8d7b8f0",
        "collapsed": true
      },
      "execution_count": 27
    },
    {
      "outputs": [],
      "cell_type": "code",
      "source": [
        "#Manhattan distance\n",
        "def manhattan_distance(lat1, lng1, lat2, lng2):\n",
        "    x = haversine_distance(lat1, lng1, lat1, lng2)\n",
        "    y = haversine_distance(lat1, lng1, lat2, lng1)\n",
        "    return x + y\n",
        "\n",
        "combine_df['manhattan_distance'] = manhattan_distance(combine_df['pickup_latitude'],combine_df['pickup_longitude'],\n",
        "                                                      combine_df['dropoff_latitude'],combine_df['dropoff_longitude'])"
      ],
      "metadata": {
        "_cell_guid": "ef8912f2-ec55-4d40-8b98-4f63f90ea663",
        "_uuid": "a08b5efb25d4e41208e2f0543bba985a016dc141",
        "collapsed": true
      },
      "execution_count": 28
    },
    {
      "outputs": [],
      "cell_type": "code",
      "source": [
        "#bearing of distance traveled\n",
        "def bearing_traveled(lat1, lng1, lat2, lng2):\n",
        "    AVG_EARTH_RADIUS = 6371  # in km\n",
        "    lng_delta_rad = np.radians(lng2 - lng1)\n",
        "    lat1, lng1, lat2, lng2 = map(np.radians, (lat1, lng1, lat2, lng2))\n",
        "    y = np.sin(lng_delta_rad) * np.cos(lat2)\n",
        "    x = np.cos(lat1) * np.sin(lat2) - np.sin(lat1) * np.cos(lat2) * np.cos(lng_delta_rad)\n",
        "    return np.degrees(np.arctan2(y, x))\n",
        "\n",
        "combine_df['bearing_traveled'] = bearing_traveled(combine_df['pickup_latitude'],combine_df['pickup_longitude'],\n",
        "                                                  combine_df['dropoff_latitude'],combine_df['dropoff_longitude'])"
      ],
      "metadata": {
        "_cell_guid": "87d3e592-95e3-48d5-ba8b-5f3ff7672948",
        "_uuid": "b3265bbf225368720fe018a5cd8d83d58ed1206b",
        "collapsed": true
      },
      "execution_count": 29
    },
    {
      "outputs": [],
      "cell_type": "code",
      "source": [
        "#Date & Time\n",
        "combine_df['month'] = combine_df['pickup_datetime'].dt.month\n",
        "combine_df['weekofYear'] = combine_df['pickup_datetime'].dt.weekofyear\n",
        "combine_df['dayofMonth'] = combine_df['pickup_datetime'].dt.day\n",
        "combine_df['dayofWeek'] = combine_df['pickup_datetime'].dt.dayofweek\n",
        "combine_df['hour'] = combine_df['pickup_datetime'].dt.hour"
      ],
      "metadata": {
        "_cell_guid": "665d9e45-9f42-425f-abe4-600e69eb69b6",
        "_uuid": "b55277308f66da86a82c1a1eeea9f2d2516e59e1",
        "collapsed": true
      },
      "execution_count": 30
    },
    {
      "outputs": [],
      "cell_type": "code",
      "source": [
        "#Cluster\n",
        "coordinates = np.vstack((train_df[['pickup_latitude', 'pickup_longitude']].values,\n",
        "                        train_df[['dropoff_latitude', 'dropoff_longitude']].values))\n",
        "kmeans = MiniBatchKMeans(n_clusters=100, batch_size=10000).fit(coordinates)\n",
        "combine_df['pickup_cluster'] = kmeans.predict(combine_df[['pickup_latitude', 'pickup_longitude']])\n",
        "combine_df['dropoff_cluster'] = kmeans.predict(combine_df[['dropoff_latitude', 'dropoff_longitude']])\n",
        "combine_df['center_cluster'] = kmeans.predict(combine_df[['center_latitude', 'center_longitude']])"
      ],
      "metadata": {
        "_cell_guid": "bba11c29-d4c9-4273-ba93-716cdcc0c7ac",
        "_uuid": "ae66de90fa3711ce426bf403a2a062d4ddb0ef3d",
        "collapsed": true
      },
      "execution_count": 31
    },
    {
      "outputs": [],
      "cell_type": "code",
      "source": [
        "#Speed\n",
        "combine_df['pickup_lat_bin'] = np.round(combine_df['pickup_latitude'], 3)\n",
        "combine_df['pickup_long_bin'] = np.round(combine_df['pickup_longitude'], 3)\n",
        "combine_df['center_lat_bin'] = np.round(combine_df['center_latitude'], 3)\n",
        "combine_df['center_long_bin'] = np.round(combine_df['center_longitude'], 3)\n",
        "combine_df['dropoff_lat_bin'] = np.round(combine_df['dropoff_latitude'], 3)\n",
        "combine_df['dropoff_long_bin'] = np.round(combine_df['dropoff_longitude'], 3)\n",
        "\n",
        "train_df = combine_df.iloc[:1458644,:]\n",
        "test_df = combine_df.iloc[1458644:,:]\n",
        "train_df['avg_speed_h'] = 1000*train_df['haversine_distance']/train_df['trip_duration']\n",
        "train_df['avg_speed_m'] = 1000*train_df['manhattan_distance']/train_df['trip_duration']"
      ],
      "metadata": {
        "_cell_guid": "dd3fe29e-022f-4326-8abf-1c4d664d2899",
        "_uuid": "de5e9aa727f8b5fbc720a1f5563d1138df12e82f"
      },
      "execution_count": 32
    },
    {
      "outputs": [],
      "cell_type": "code",
      "source": [
        "# coord_speed = train_df.groupby(['pickup_lat_bin','pickup_long_bin'])\\\n",
        "#                       .agg({'avg_speed_h':np.average,'id':np.size})\n",
        "# coord_speed = coord_speed[coord_speed['id']>=100].reset_index()\n",
        "# fig, ax = plt.subplots(ncols=1, nrows=1, figsize=(10,10))\n",
        "# ax.scatter(train_df.pickup_longitude.values, train_df.pickup_latitude.values, color='black', s=0.2, alpha=0.5)\n",
        "# ax.scatter(coord_speed.pickup_long_bin.values, coord_speed.pickup_lat_bin.values, c=coord_speed.avg_speed_h.values,\n",
        "#            cmap='RdYlGn', s=20, alpha=0.5, vmin=1, vmax=8)\n",
        "# ax.set_xlim(long_border)\n",
        "# ax.set_ylim(lat_border)\n",
        "# ax.set_xlabel('longitude')\n",
        "# ax.set_ylabel('latitude')\n",
        "# plt.title('Average speed')\n",
        "# plt.show()"
      ],
      "metadata": {
        "_cell_guid": "98fb0ad4-6dd9-45d6-92d4-ca5b08e0b6dd",
        "_uuid": "8bbfed083e2bddbdb50a8570aa95ff94b672d030",
        "collapsed": true
      },
      "execution_count": 33
    },
    {
      "outputs": [],
      "cell_type": "code",
      "source": [
        "train_df['log_trip_duration'] = np.log(train_df['trip_duration']+1)\n",
        "\n",
        "for gby_col in ['pickup_date', 'hour']:\n",
        "    gby = train_df.groupby(gby_col).agg({'avg_speed_h':np.average})\n",
        "    gby.columns = ['%s-gby-%s' % (col, gby_col) for col in gby.columns]\n",
        "    train_df = pd.merge(train_df, gby, how='left', left_on=gby_col, right_index=True)\n",
        "    test_df = pd.merge(test_df, gby, how='left', left_on=gby_col, right_index=True)\n",
        "\n",
        "for gby_cols in [['hour','center_cluster'], ['hour', 'pickup_cluster'],  ['hour', 'dropoff_cluster'],\n",
        "                 ['pickup_date','hour'], ['pickup_date','hour','pickup_cluster'], \n",
        "                 ['pickup_date','hour','center_cluster'],['pickup_date','hour','dropoff_cluster'],\n",
        "                 ['pickup_lat_bin','pickup_long_bin'], ['dropoff_lat_bin','dropoff_long_bin']]:\n",
        "    gby = train_df.groupby(gby_cols).agg({'avg_speed_h':np.average, 'avg_speed_m':np.average, 'id':'count'})\n",
        "    gby = gby[gby['id']>=100]\n",
        "    gby.columns = ['%s-gby-%s' % (col, '&'.join(gby_cols)) for col in gby.columns]\n",
        "    train_df = pd.merge(train_df, gby, how='left', left_on=gby_cols, right_index=True)\n",
        "    test_df = pd.merge(test_df, gby, how='left', left_on=gby_cols, right_index=True)\n",
        "\n",
        "for gby_cols in [['pickup_cluster', 'center_cluster'],['center_cluster','dropoff_cluster'],\n",
        "                 ['pickup_cluster', 'dropoff_cluster']]:\n",
        "    gby = train_df.groupby(gby_cols).agg({'avg_speed_h':np.average, 'log_trip_duration':np.average, 'id':'count'})\n",
        "    gby = gby[gby['id']>=100]\n",
        "    gby.columns = ['%s-gby-%s' % (col, '&'.join(gby_cols)) for col in gby.columns]\n",
        "    train_df = pd.merge(train_df, gby, how='left', left_on=gby_cols, right_index=True)\n",
        "    test_df = pd.merge(test_df, gby, how='left', left_on=gby_cols, right_index=True)\n",
        "\n",
        "train_df.head()"
      ],
      "metadata": {
        "_cell_guid": "f0d545bf-4cde-47f0-80ca-a2e1c0048b33",
        "_uuid": "ee244924514d393dde62090845276b2887e84033"
      },
      "execution_count": 34
    },
    {
      "outputs": [],
      "cell_type": "code",
      "source": [
        "#total distance & travel time & no. of steps\n",
        "train1 = pd.read_csv('../input/new-york-city-taxi-with-osrm/fastest_routes_train_part_1.csv', \n",
        "                  usecols=['id', 'total_distance', 'total_travel_time', 'number_of_steps'])\n",
        "train2 = pd.read_csv('../input/new-york-city-taxi-with-osrm/fastest_routes_train_part_2.csv', \n",
        "                  usecols=['id', 'total_distance', 'total_travel_time', 'number_of_steps'])\n",
        "test = pd.read_csv('../input/new-york-city-taxi-with-osrm/fastest_routes_test.csv',\n",
        "                  usecols=['id', 'total_distance', 'total_travel_time', 'number_of_steps'])\n",
        "add_data = pd.concat([train1, train2, test])\n",
        "train_df = train_df.merge(add_data, how='left', on='id')\n",
        "test_df = test_df.merge(add_data, how='left', on='id')"
      ],
      "metadata": {
        "_cell_guid": "7e5895b8-5a51-4631-a7f2-aaf3266fd318",
        "_uuid": "ddf09a2e752106fd9ba70bf93ee5565ab695b982",
        "collapsed": true
      },
      "execution_count": 35
    },
    {
      "outputs": [],
      "cell_type": "code",
      "source": [
        "# features = ['passenger_count', 'store_and_fwd_flag', 'vendor_id',\n",
        "#             'month', 'weekofYear', 'dayofMonth', 'dayofWeek', 'hour', \n",
        "#             'pickup_cluster', 'dropoff_cluster']\n",
        "# for feature in features:\n",
        "#     df = pd.get_dummies(combine_df[feature],prefix=feature)\n",
        "#     combine_df = pd.concat([combine_df,df],axis=1).drop(feature,axis=1)"
      ],
      "metadata": {
        "_cell_guid": "49b9e2e8-0a0f-45b2-87a7-7da601bee9b7",
        "_uuid": "b6cb865206870a74babfa58989a74e63df71504c",
        "collapsed": true
      },
      "execution_count": 36
    },
    {
      "outputs": [],
      "cell_type": "code",
      "source": [
        "drop_features = ['pickup_date','pickup_datetime','dropoff_datetime','trip_duration', \n",
        "                  'dropoff_latitude', 'dropoff_longitude', 'dropoff_lat_bin', 'dropoff_long_bin',\n",
        "                  'pickup_latitude','pickup_longitude', 'pickup_lat_bin', 'pickup_long_bin',\n",
        "                  'center_latitude', 'center_longitude','center_lat_bin', 'center_long_bin']\n",
        "train_df = train_df.drop(drop_features+['avg_speed_h']+['avg_speed_m'],axis=1)\n",
        "test_df = test_df.drop(drop_features,axis=1)\n",
        "print(train_df.info())\n",
        "print(test_df.info())"
      ],
      "metadata": {
        "_cell_guid": "e29ebdc8-e817-4354-865d-11ad7e86b477",
        "_uuid": "aedda69fa39454dc62c684a253c9713e854a4d3d"
      },
      "execution_count": 37
    },
    {
      "outputs": [],
      "cell_type": "code",
      "source": [
        "X_all = train_df.drop(['id','log_trip_duration'],axis=1)\n",
        "Y_all = train_df[\"log_trip_duration\"]\n",
        "X_test = test_df.drop('id',axis=1)"
      ],
      "metadata": {
        "_cell_guid": "8c7f961f-30e5-4df8-8798-2111b9938fa9",
        "_uuid": "8f424dea26510796a05f2990d34ae801bcb93704",
        "collapsed": true
      },
      "execution_count": 38
    },
    {
      "outputs": [],
      "cell_type": "code",
      "source": [
        "num_test = 0.2\n",
        "X_train, X_cv, Y_train, Y_cv = train_test_split(X_all, Y_all, test_size=num_test)\n",
        "dtrain = xgb.DMatrix(X_train, label=Y_train)\n",
        "dvalid = xgb.DMatrix(X_cv, label=Y_cv)\n",
        "dtest = xgb.DMatrix(X_test)\n",
        "watchlist = [(dtrain, 'train'), (dvalid, 'valid')]"
      ],
      "metadata": {
        "_cell_guid": "74db653b-99bc-4323-bebf-42f5df43aad7",
        "_uuid": "f76a5190e557123a2d42e81cd37890b4cef6012e",
        "collapsed": true
      },
      "execution_count": null
    },
    {
      "outputs": [],
      "cell_type": "code",
      "source": [
        "xgb_pars = {'min_child_weight': 1, 'eta': 0.5, 'colsample_bytree': 0.9, 'max_depth': 6,\n",
        "            'subsample': 0.9, 'lambda': 1., 'nthread': -1, 'booster' : 'gbtree', 'silent': 1,\n",
        "            'eval_metric': 'rmse', 'objective': 'reg:linear'}\n",
        "model = xgb.train(xgb_pars, dtrain, 30, watchlist, early_stopping_rounds=2,\n",
        "      maximize=False, verbose_eval=1)\n",
        "print('Modeling RMSLE %.5f' % model.best_score)"
      ],
      "metadata": {
        "_cell_guid": "3e85c174-ad87-42bd-8b3b-d267c8d9c4a4",
        "_uuid": "b918296d4af21c533bb271290b5292ffc73d36cc"
      },
      "execution_count": null
    },
    {
      "outputs": [],
      "cell_type": "code",
      "source": [
        "Y_test = model.predict(dtest)\n",
        "Y_test = np.exp(Y_test) - 1\n",
        "submission = pd.DataFrame({\n",
        "    \"id\": test_df[\"id\"],\n",
        "    \"trip_duration\": Y_test\n",
        "})\n",
        "submission.to_csv(\"submission.csv\", index=False)"
      ],
      "metadata": {
        "_cell_guid": "5ad103f5-7376-4898-967a-f36adcf31aea",
        "_uuid": "48fb4e1ae43e23b2e90ef0e908e2e4cc51705867",
        "collapsed": true
      },
      "execution_count": null
    },
    {
      "outputs": [],
      "cell_type": "code",
      "source": [
        "fig,ax = plt.subplots(figsize=(10,10))\n",
        "fig = xgb.plot_importance(model, height=0.6, ax=ax)"
      ],
      "metadata": {
        "_cell_guid": "da76af4e-801c-46f6-8293-f6a553a89ea5",
        "_uuid": "eea1494110e59a5005e10490ce843abf3da5bb09"
      },
      "execution_count": null
    }
  ],
  "metadata": {
    "language_info": {
      "nbconvert_exporter": "python",
      "version": "3.6.1",
      "name": "python",
      "pygments_lexer": "ipython3",
      "file_extension": ".py",
      "codemirror_mode": {
        "version": 3,
        "name": "ipython"
      },
      "mimetype": "text/x-python"
    },
    "kernelspec": {
      "display_name": "Python 3",
      "language": "python",
      "name": "python3"
    }
  },
  "nbformat_minor": 1,
  "nbformat": 4
}