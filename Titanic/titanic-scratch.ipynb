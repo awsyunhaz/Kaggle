{
  "metadata": {
    "kernelspec": {
      "display_name": "Python 3",
      "language": "python",
      "name": "python3"
    },
    "language_info": {
      "name": "python",
      "version": "3.6.1",
      "mimetype": "text/x-python",
      "codemirror_mode": {
        "name": "ipython",
        "version": 3
      },
      "pygments_lexer": "ipython3",
      "nbconvert_exporter": "python",
      "file_extension": ".py"
    }
  },
  "nbformat": 4,
  "cells": [
    {
      "outputs": [],
      "cell_type": "code",
      "metadata": {
        "_execution_state": "idle",
        "_uuid": "8de57e95ed8a9225c5cfcbb628f41a120018b225",
        "_cell_guid": "d30d4995-14dd-425a-a1c3-4fbeed01aaa5",
        "trusted": false
      },
      "source": "# This Python 3 environment comes with many helpful analytics libraries installed\n# It is defined by the kaggle/python docker image: https://github.com/kaggle/docker-python\n# For example, here's several helpful packages to load in \n\nimport numpy as np # linear algebra\nimport pandas as pd # data processing, CSV file I/O (e.g. pd.read_csv)\n\n# Input data files are available in the \"../input/\" directory.\n# For example, running this (by clicking run or pressing Shift+Enter) will list the files in the input directory\n\nfrom subprocess import check_output\nprint(check_output([\"ls\", \"../input\"]).decode(\"utf8\"))\n\n# Any results you write to the current directory are saved as output.\n",
      "execution_count": 2
    },
    {
      "outputs": [],
      "cell_type": "code",
      "metadata": {
        "_execution_state": "idle",
        "_uuid": "75a6332e62aacf14ed0c9ffc85e32ed42b1fae4e",
        "_cell_guid": "7edee3d8-c4b6-412d-9de3-252c8f4399bc",
        "collapsed": true,
        "trusted": false
      },
      "source": "# data analysis and wrangling\nimport pandas as pd\nimport numpy as np\nimport random as rnd\n\n# visualization\nimport seaborn as sns\nimport matplotlib.pyplot as plt\n%matplotlib inline\n\n# machine learning\nfrom sklearn.linear_model import LogisticRegression\nfrom sklearn.svm import SVC, LinearSVC\nfrom sklearn.ensemble import RandomForestClassifier\nfrom sklearn.neighbors import KNeighborsClassifier\nfrom sklearn.naive_bayes import GaussianNB\nfrom sklearn.linear_model import Perceptron\nfrom sklearn.linear_model import SGDClassifier\nfrom sklearn.tree import DecisionTreeClassifier",
      "execution_count": 3
    },
    {
      "outputs": [],
      "cell_type": "code",
      "metadata": {
        "_execution_state": "idle",
        "_uuid": "ad6b552552fbbfda7b775e597fb9b1ae1bc5dabf",
        "_cell_guid": "b26e942d-a19e-4fa8-83fe-d8657c5a0566",
        "collapsed": true,
        "trusted": false
      },
      "source": "train_df = pd.read_csv('../input/train.csv')\ntest_df = pd.read_csv('../input/test.csv')\ndf = [train_df, test_df]",
      "execution_count": 4
    },
    {
      "outputs": [],
      "cell_type": "code",
      "metadata": {
        "_execution_state": "idle",
        "_uuid": "3e43c7d070f9eb1c93e863b6ec67bbca25ec0bbd",
        "_cell_guid": "60326f26-db8a-4670-b407-038835add8f5",
        "trusted": false
      },
      "source": "train_df.head()",
      "execution_count": 5
    },
    {
      "outputs": [],
      "cell_type": "code",
      "metadata": {
        "_execution_state": "idle",
        "_uuid": "36a4f8f4cb2ac4279766292a18d545f222e5cd9e",
        "_cell_guid": "53e134cf-25a0-4a21-9aba-885460f5598b",
        "trusted": false
      },
      "source": "train_df.info()\ntest_df.info()",
      "execution_count": 6
    },
    {
      "outputs": [],
      "cell_type": "code",
      "metadata": {
        "_execution_state": "idle",
        "_uuid": "7be13129e07adad74867829e1af7a9c33999cd97",
        "_cell_guid": "a02947b7-9d77-45d6-8484-142383dafd5a",
        "trusted": false
      },
      "source": "train_df.describe(include=['O'])",
      "execution_count": 7
    },
    {
      "outputs": [],
      "cell_type": "code",
      "metadata": {
        "_execution_state": "idle",
        "_uuid": "b3039028eb3bf8ad6aded9e7218e9fef3a18843b",
        "_cell_guid": "ef1002c6-fc49-4880-84c9-c3d72e685e3d",
        "trusted": false
      },
      "source": "train_df[['Pclass','Survived']].groupby('Pclass').mean()",
      "execution_count": 8
    },
    {
      "outputs": [],
      "cell_type": "code",
      "metadata": {
        "_execution_state": "idle",
        "_uuid": "c85c0d13dcea2bf2161ec3132e7876371004457e",
        "_cell_guid": "19bd2792-43fe-4c84-9443-c6b56f3cdc24",
        "trusted": false
      },
      "source": "grid = sns.FacetGrid(train_df,col='Survived')\ngrid.map(plt.hist,'Age',bins=20)",
      "execution_count": 9
    },
    {
      "outputs": [],
      "cell_type": "code",
      "metadata": {
        "_execution_state": "idle",
        "_uuid": "abbe0ad972ce1e9b711491cf2d316eab4a911bf7",
        "_cell_guid": "98cdda58-d5e5-4af2-a004-788956f76b13",
        "trusted": false
      },
      "source": "grid = sns.FacetGrid(train_df, row='Embarked', size=2.2, aspect=1.6)\ngrid.map(sns.pointplot, 'Pclass', 'Survived', 'Sex', palette='deep')\ngrid.add_legend()",
      "execution_count": 10
    },
    {
      "outputs": [],
      "cell_type": "code",
      "metadata": {
        "_execution_state": "idle",
        "_uuid": "356b3f3b04fa5a4b497a6fd24c932a0615cd2f19",
        "_cell_guid": "96f1b668-72d3-48f8-ae0e-e41fff4ce57f",
        "collapsed": true,
        "trusted": false
      },
      "source": "train_df = train_df.drop(['Ticket','Cabin'],axis=1)\ntest_df = test_df.drop(['Ticket','Cabin'],axis=1)\ncombine = [train_df,test_df]",
      "execution_count": 11
    },
    {
      "outputs": [],
      "cell_type": "code",
      "metadata": {
        "_execution_state": "idle",
        "_uuid": "cca3f05a1bda2ddcd64c16d7ee51c5cdeb5405e6",
        "_cell_guid": "65a019ce-d46e-4cb9-bd42-4a1b24c7ac9a",
        "trusted": false
      },
      "source": "for dataset in combine:\n    dataset['Title'] = dataset.Name.str.extract(' ([A-Za-z]+)\\.', expand=False)\n\npd.crosstab(train_df['Title'],train_df['Sex'])",
      "execution_count": 12
    },
    {
      "outputs": [],
      "cell_type": "code",
      "metadata": {
        "_execution_state": "idle",
        "_uuid": "719875980e838be4ed330824886ead3b18e5ce9e",
        "_cell_guid": "b2993fa0-19eb-40e4-ba8e-0fe42ced1f05",
        "trusted": false
      },
      "source": "for dataset in combine:\n    dataset['Title'] = dataset['Title'].replace(['Lady', 'Countess','Capt', 'Col',\\\n \t'Don', 'Dr', 'Major', 'Rev', 'Sir', 'Jonkheer', 'Dona'], 'Other')\n\n    dataset['Title'] = dataset['Title'].replace('Mlle', 'Miss')\n    dataset['Title'] = dataset['Title'].replace('Ms', 'Miss')\n    dataset['Title'] = dataset['Title'].replace('Mme', 'Mrs')\n    \ntrain_df[['Title', 'Survived']].groupby(['Title']).mean()",
      "execution_count": 13
    },
    {
      "outputs": [],
      "cell_type": "code",
      "metadata": {
        "_execution_state": "idle",
        "_uuid": "13363bb4a12f8aa49ec220cec37ff8eba1a9e214",
        "_cell_guid": "9c90d504-2ff8-42a2-8d0c-893e415d13bf",
        "trusted": false
      },
      "source": "title_mapping = {\"Mr\": 1, \"Miss\": 2, \"Mrs\": 3, \"Master\": 4, \"Other\": 5}\nfor dataset in combine:\n    dataset['Title'] = dataset['Title'].map(title_mapping)\n    dataset['Title'] = dataset['Title'].fillna(0)\n\ntrain_df.head()",
      "execution_count": 14
    },
    {
      "outputs": [],
      "cell_type": "code",
      "metadata": {
        "_execution_state": "idle",
        "_uuid": "d696eba01d5c9524264d8fb2ba5409c6b70650b4",
        "_cell_guid": "58c53053-503b-4213-89c8-1e6311ea925a",
        "collapsed": true,
        "trusted": false
      },
      "source": "train_df = train_df.drop(['Name', 'PassengerId'], axis=1)\ntest_df = test_df.drop(['Name'], axis=1)\ncombine = [train_df, test_df]",
      "execution_count": 15
    },
    {
      "outputs": [],
      "cell_type": "code",
      "metadata": {
        "_execution_state": "idle",
        "_uuid": "d59490ab50f988015fc393421febefea8c0cb2cb",
        "_cell_guid": "425bf4e6-1e96-405c-87dc-ce19844ae287",
        "trusted": false
      },
      "source": "for dataset in combine:\n    dataset['Sex'] = dataset['Sex'].map( {'female': 1, 'male': 0} ).astype(int)\n\ntrain_df.head()",
      "execution_count": 16
    },
    {
      "outputs": [],
      "cell_type": "code",
      "metadata": {
        "_execution_state": "idle",
        "_uuid": "7930c403734540992ce6a66a7e7ae1ebea5c2c57",
        "_cell_guid": "f8cf39a0-055d-48cf-b264-22de1af59626",
        "collapsed": true,
        "trusted": false
      },
      "source": "age_median = np.zeros((2,3))\nfor dataset in combine:\n    for sex in range(0,2):\n        for pclass in range (0,3):\n            age_df = dataset[(dataset['Sex']==sex) & (dataset['Pclass']==pclass+1)]['Age'].dropna()\n            age_median[sex,pclass] = int(age_df.median())\n    for sex in range(0,2):\n        for pclass in range (0,3):\n            dataset.loc[(dataset.Age.isnull()) & (dataset['Sex']==sex) & (dataset['Pclass']==pclass+1),'Age'] = age_median[sex,pclass]\n",
      "execution_count": 17
    },
    {
      "outputs": [],
      "cell_type": "code",
      "metadata": {
        "_execution_state": "idle",
        "_uuid": "7abd4ef03ddfe8ecb8b3613c6b8f5306b023eaed",
        "_cell_guid": "3d6394ed-804f-48cc-adf9-9fa239cce1dd",
        "collapsed": true,
        "trusted": false
      },
      "source": "bins = (0,6,12,18,25,35,60,100)\ngroups = [0,1,2,3,4,5,6]\nfor dataset in combine:\n    dataset.Age = pd.cut(dataset['Age'],bins,labels=groups).astype(int)",
      "execution_count": 18
    },
    {
      "outputs": [],
      "cell_type": "code",
      "metadata": {
        "_execution_state": "idle",
        "_uuid": "741bd7ba2ca52fd481026848655dd9a2832f512f",
        "_cell_guid": "5b149ec5-9e8c-4743-9083-14cc8c32b4de",
        "collapsed": true,
        "trusted": false
      },
      "source": "for dataset in combine:\n    dataset['isAlone'] = 0\n    dataset.loc[(dataset['SibSp']==0) & (dataset['Parch']==0), 'isAlone'] = 1\n\ntrain_df = train_df.drop(['SibSp','Parch'],axis=1)\ntest_df = test_df.drop(['SibSp','Parch'],axis=1)\ncombine = [train_df, test_df]",
      "execution_count": 19
    },
    {
      "outputs": [],
      "cell_type": "code",
      "metadata": {
        "_execution_state": "idle",
        "_uuid": "6ad306fa0cb376d0c9e51efbf680f3de4f436d79",
        "_cell_guid": "56433977-6dd5-471f-bcdc-cb27b3f143a8",
        "collapsed": true,
        "trusted": false
      },
      "source": "port = train_df.Embarked.dropna().mode()[0]\nfor dataset in combine:\n    dataset['Embarked'] = dataset['Embarked'].fillna(port)",
      "execution_count": 20
    },
    {
      "outputs": [],
      "cell_type": "code",
      "metadata": {
        "_execution_state": "idle",
        "_uuid": "eeca8e4c673b361df51ce8430559a068d06a93fd",
        "_cell_guid": "a9d3337f-c13a-4c25-ad5c-19669ba09b64",
        "collapsed": true,
        "trusted": false
      },
      "source": "for dataset in combine:\n    dataset['Embarked'] = dataset['Embarked'].map( {'S': 0, 'C': 1, 'Q': 2} ).astype(int)",
      "execution_count": 21
    },
    {
      "outputs": [],
      "cell_type": "code",
      "metadata": {
        "_execution_state": "idle",
        "_uuid": "20dc1a4c9b5d824981b6376b0a884e417eb70aad",
        "_cell_guid": "681cca0f-c230-475c-9b60-1bb2fd89fb5d",
        "trusted": false
      },
      "source": "test_df['Fare'].fillna(test_df['Fare'].dropna().median(),inplace=True)\ntest_df.info()",
      "execution_count": 22
    },
    {
      "outputs": [],
      "cell_type": "code",
      "metadata": {
        "_execution_state": "idle",
        "_uuid": "1f844be055086c9908c851fcd3c7120bee566212",
        "_cell_guid": "1716a637-101c-475f-bef1-bd03b813861b",
        "collapsed": true,
        "trusted": false
      },
      "source": "fare_band = pd.qcut(train_df['Fare'],5)\nfare_band\nbins = (-0.05,7.854,10.5,21.679,39.688,512.33)\ngroups = (0,1,2,3,4)\nfor dataset in combine:\n    dataset.Fare = pd.cut(dataset['Fare'],bins,labels=groups).astype(int)",
      "execution_count": 23
    },
    {
      "outputs": [],
      "cell_type": "code",
      "metadata": {
        "_execution_state": "idle",
        "_uuid": "75146f6ec6f62543271a5dd39802d7868fc63426",
        "_cell_guid": "f5302161-ca53-4f82-9a5c-acc2e9887e24",
        "collapsed": true,
        "trusted": false
      },
      "source": "X_train = train_df.drop(\"Survived\", axis=1)\nY_train = train_df[\"Survived\"]\nX_test  = test_df.drop(\"PassengerId\", axis=1)",
      "execution_count": 24
    },
    {
      "outputs": [],
      "cell_type": "code",
      "metadata": {
        "_execution_state": "idle",
        "_uuid": "0a6c06486afed5257d785e3a27858e88f188017e",
        "_cell_guid": "4fbcf8da-b9f7-46f8-b1ff-70c91947d9a1",
        "trusted": false
      },
      "source": "logreg = LogisticRegression()\nlogreg.fit(X_train, Y_train)\nY_test = logreg.predict(X_test)\nacc_log = round(logreg.score(X_train, Y_train) * 100, 2)\nacc_log",
      "execution_count": 25
    },
    {
      "outputs": [],
      "cell_type": "code",
      "metadata": {
        "_execution_state": "idle",
        "_uuid": "9c9c16c7941a82001bf606208b4993ea3d32e899",
        "_cell_guid": "889acf94-c199-47b9-a850-d46135400fde",
        "trusted": false
      },
      "source": "coeff_df = pd.DataFrame()\ncoeff_df['Feature'] = train_df.columns.delete('0')\ncoeff_df[\"Correlation\"] = pd.Series(logreg.coef_[0])\ncoeff_df.sort_values(by='Correlation', ascending=False)",
      "execution_count": 26
    },
    {
      "outputs": [],
      "cell_type": "code",
      "metadata": {
        "_execution_state": "idle",
        "_uuid": "c843af991337058e54c978e69569095e03bd0853",
        "_cell_guid": "a3110038-6eb1-48ca-9127-34d3ec0f0154",
        "trusted": false
      },
      "source": "svc = SVC()\nsvc.fit(X_train, Y_train)\nY_pred = svc.predict(X_test)\nacc_svc = round(svc.score(X_train, Y_train) * 100, 2)\nacc_svc",
      "execution_count": 27
    },
    {
      "outputs": [],
      "cell_type": "code",
      "metadata": {
        "_execution_state": "idle",
        "_uuid": "2c052440c67631204eed434d7e89ad0f816ee247",
        "_cell_guid": "9367f9cb-b8ef-459a-8de3-287d9fe1681a",
        "trusted": false
      },
      "source": "knn = KNeighborsClassifier(n_neighbors = 3)\nknn.fit(X_train, Y_train)\nY_pred = knn.predict(X_test)\nacc_knn = round(knn.score(X_train, Y_train) * 100, 2)\nacc_knn",
      "execution_count": 28
    },
    {
      "outputs": [],
      "cell_type": "code",
      "metadata": {
        "_execution_state": "idle",
        "_uuid": "c5473b377f970ea073b677908ca157f0e9cfd2ae",
        "_cell_guid": "4e60189d-eeac-4b52-bb10-9a64ab844b34",
        "trusted": false
      },
      "source": "# Decision Tree\n\ndecision_tree = DecisionTreeClassifier()\ndecision_tree.fit(X_train, Y_train)\nY_pred = decision_tree.predict(X_test)\nacc_decision_tree = round(decision_tree.score(X_train, Y_train) * 100, 2)\nacc_decision_tree",
      "execution_count": 29
    },
    {
      "outputs": [],
      "cell_type": "code",
      "metadata": {
        "_execution_state": "idle",
        "_uuid": "11a692ba9f9a772a8ff12af5a5c8a30cb6cff4a6",
        "_cell_guid": "88ae01fb-5f03-44e2-895f-cae15bba244d",
        "trusted": false
      },
      "source": "# Random Forest\n\nrandom_forest = RandomForestClassifier(n_estimators=100)\nrandom_forest.fit(X_train, Y_train)\nY_pred = random_forest.predict(X_test)\nrandom_forest.score(X_train, Y_train)\nacc_random_forest = round(random_forest.score(X_train, Y_train) * 100, 2)\nacc_random_forest",
      "execution_count": 30
    },
    {
      "outputs": [],
      "cell_type": "code",
      "metadata": {
        "_execution_state": "idle",
        "_uuid": "fc4f0dd6c50fcf8900e79ab3c326e2361dafbf95",
        "_cell_guid": "aebbe9b2-02b5-4538-b0c7-4f27700ba3ca",
        "trusted": false
      },
      "source": "submission = pd.DataFrame({\n        \"PassengerId\": test_df[\"PassengerId\"],\n        \"Survived\": Y_pred\n    })\nsubmission.to_csv('submission.csv', index=False)",
      "execution_count": null
    }
  ],
  "nbformat_minor": 1
}