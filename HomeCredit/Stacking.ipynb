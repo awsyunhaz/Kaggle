{
  "cells": [
    {
      "metadata": {
        "_uuid": "8f2839f25d086af736a60e9eeb907d3b93b6e0e5",
        "_cell_guid": "b1076dfc-b9ad-4769-8c92-a6c4dae69d19",
        "trusted": true
      },
      "cell_type": "code",
      "source": "# This Python 3 environment comes with many helpful analytics libraries installed\n# It is defined by the kaggle/python docker image: https://github.com/kaggle/docker-python\n# For example, here's several helpful packages to load in \n\nimport numpy as np # linear algebra\nimport pandas as pd # data processing, CSV file I/O (e.g. pd.read_csv)\n\n# Input data files are available in the \"../input/\" directory.\n# For example, running this (by clicking run or pressing Shift+Enter) will list the files in the input directory\n\nimport os\nprint(os.listdir(\"../input/\"))\n\n# Any results you write to the current directory are saved as output.",
      "execution_count": null,
      "outputs": []
    },
    {
      "metadata": {
        "_cell_guid": "79c7e3d0-c299-4dcb-8224-4455121ee9b0",
        "_uuid": "d629ff2d2480ee46fbb7e2d37f6b5fab8052498a",
        "trusted": true
      },
      "cell_type": "code",
      "source": "app_train = pd.read_csv(\"../input/home-credit-default-risk/application_train.csv\")\napp_train = app_train[app_train[\"CODE_GENDER\"]!='XNA']\napp_train = app_train[app_train['NAME_INCOME_TYPE'] != 'Maternity leave']\napp_train = app_train[app_train['NAME_FAMILY_STATUS'] != 'Unknown']\n\n# oof_rf = pd.read_csv(\"../input/rf-script/oof_rf.csv\")\n# oof_et = pd.read_csv(\"../input/et-script/oof_et.csv\")\noof_lgbm = pd.read_csv(\"../input/lgbm-script/oof_lgbm.csv\")\noof_cb = pd.read_csv(\"../input/catboost-script/oof_catboost.csv\")\noof_xg = pd.read_csv(\"../input/xgb-result/oof_xgboost.csv\")",
      "execution_count": null,
      "outputs": []
    },
    {
      "metadata": {
        "trusted": true,
        "_uuid": "6d620bc3382293d2c0391520a5d403b90e7e42cf"
      },
      "cell_type": "code",
      "source": "from sklearn.metrics import roc_auc_score, roc_curve\n\nprint(roc_auc_score(app_train[\"TARGET\"],oof_lgbm[\"TARGET\"]))\nprint(roc_auc_score(app_train[\"TARGET\"],oof_xg[\"TARGET\"]))\n# print(roc_auc_score(app_train[\"TARGET\"],oof_rf[\"TARGET\"]))\nprint(roc_auc_score(app_train[\"TARGET\"],oof_cb[\"TARGET\"]))\n# print(roc_auc_score(app_train[\"TARGET\"],oof_et[\"TARGET\"]))",
      "execution_count": null,
      "outputs": []
    },
    {
      "metadata": {
        "trusted": true,
        "_uuid": "2cf3510d08ed8f62bfdd5b5f5f34ba06fa478a7d"
      },
      "cell_type": "code",
      "source": "best_score = 0\nfor i in np.linspace(0,1,21):\n    for j in np.linspace(0,1,21):\n        x_stack = i*oof_lgbm[\"TARGET\"]+j*oof_xg[\"TARGET\"]+(1-i-j)*oof_cb[\"TARGET\"]\n        score = roc_auc_score(app_train[\"TARGET\"],x_stack)\n        if score>best_score:\n            best_score = score\n            print(\"%.2f,%.2f,%.2f:%f\" % (i,j,1-i-j,score))",
      "execution_count": null,
      "outputs": []
    },
    {
      "metadata": {
        "trusted": true,
        "_uuid": "4292a93d7b54ae21ea8368471fa03c9db30ea212"
      },
      "cell_type": "code",
      "source": "from sklearn.linear_model import LogisticRegression\nfrom sklearn.model_selection import KFold, StratifiedKFold\n\noof_preds = np.zeros(oof_lgbm.shape[0])\nx_stack = pd.DataFrame({\"x1\":oof_lgbm[\"TARGET\"],\"x2\":oof_xg[\"TARGET\"],\"x3\":oof_cb[\"TARGET\"]})\nfolds = KFold(n_splits= 5, shuffle=True, random_state=1001)\nfor n_fold, (train_idx, valid_idx) in enumerate(folds.split(x_stack, app_train['TARGET'])):\n    train_x, train_y = x_stack.iloc[train_idx], app_train['TARGET'].iloc[train_idx]\n    valid_x, valid_y = x_stack.iloc[valid_idx], app_train['TARGET'].iloc[valid_idx]\n    logreg = LogisticRegression()\n    logreg.fit(train_x,train_y)\n    oof_preds[valid_idx] = logreg.predict_proba(valid_x)[:,1]\n    print(roc_auc_score(valid_y,oof_preds[valid_idx]))\nprint(roc_auc_score(app_train['TARGET'],oof_preds))",
      "execution_count": null,
      "outputs": []
    },
    {
      "metadata": {
        "trusted": true,
        "_uuid": "6d745293cba73367a19bcce88da7432b00df5842"
      },
      "cell_type": "code",
      "source": "submission_lgbm = pd.read_csv(\"../input/lgbm-script/submission_lgbm.csv\")\nsubmission_xg = pd.read_csv(\"../input/xgb-result/submission_xgboost.csv\")\nsubmission_cb = pd.read_csv(\"../input/catboost-script/submission_catboost.csv\")\nsubmission_blend = pd.read_csv(\"../input/homecredit-blend/submission_blend.CSV\")",
      "execution_count": null,
      "outputs": []
    },
    {
      "metadata": {
        "trusted": true,
        "_uuid": "2f28b9694d2afa42ad7e253e26fc739c498a4be2"
      },
      "cell_type": "code",
      "source": "submission = pd.DataFrame()\nsubmission[\"SK_ID_CURR\"] = submission_lgbm[\"SK_ID_CURR\"]\nsubmission[\"TARGET\"] = 0.65*submission_lgbm[\"TARGET\"]+0.2*submission_xg[\"TARGET\"] + 0.15*submission_cb[\"TARGET\"]\nsubmission.to_csv(\"submission_blend.csv\",index=False)",
      "execution_count": null,
      "outputs": []
    },
    {
      "metadata": {
        "trusted": true,
        "_uuid": "54a08f5f4f0b24596a0fe3ff1229867d717c36f4"
      },
      "cell_type": "code",
      "source": "logreg = LogisticRegression()\nx_stack = pd.DataFrame({\"x1\":oof_lgbm[\"TARGET\"],\"x2\":oof_xg[\"TARGET\"],\"x3\":oof_cb[\"TARGET\"]})\nlogreg.fit(x_stack,app_train[\"TARGET\"])\n\nsubmission = pd.DataFrame()\nsubmission[\"SK_ID_CURR\"] = submission_lgbm[\"SK_ID_CURR\"]\nx_test = pd.DataFrame({\"x1\":submission_lgbm[\"TARGET\"],\"x2\":submission_xg[\"TARGET\"],\"x3\":submission_cb[\"TARGET\"]})\nsubmission[\"TARGET\"] = logreg.predict_proba(x_test)[:,1]\nsubmission.to_csv(\"submission_stack.csv\",index=False)",
      "execution_count": null,
      "outputs": []
    },
    {
      "metadata": {
        "trusted": true,
        "_uuid": "b99b3b416fe8cfeb4bfd4e9a8b2a0dd1463f32d8"
      },
      "cell_type": "code",
      "source": "# data = {}\n# data[\"lgbm\"] = oof_lgbm\n# data[\"xg\"] = oof_xg\n# # for path in glob.glob(\"../input/homecredt/*.csv\", recursive=True):\n# #     data[path[19:-4]] = pd.read_csv(path)\n\n# ranks = pd.DataFrame(columns=data.keys())\n# for key in data.keys():\n#     ranks[key] = data[key].TARGET.rank(method='min')\n# ranks['Average'] = ranks.mean(axis=1)\n# ranks['Scaled Rank'] = (ranks['Average'] - ranks['Average'].min()) / (ranks['Average'].max() - ranks['Average'].min())\n# ranks.corr()[:1]\n\n# weights = [0.6,0.4]\n# ranks['Score'] = ranks[['lgbm','xg']].mul(weights).sum(1) / ranks.shape[0]\n# print(roc_auc_score(app_train[\"TARGET\"],ranks['Score']))",
      "execution_count": null,
      "outputs": []
    }
  ],
  "metadata": {
    "kernelspec": {
      "display_name": "Python 3",
      "language": "python",
      "name": "python3"
    },
    "language_info": {
      "name": "python",
      "version": "3.6.6",
      "mimetype": "text/x-python",
      "codemirror_mode": {
        "name": "ipython",
        "version": 3
      },
      "pygments_lexer": "ipython3",
      "nbconvert_exporter": "python",
      "file_extension": ".py"
    }
  },
  "nbformat": 4,
  "nbformat_minor": 1
}