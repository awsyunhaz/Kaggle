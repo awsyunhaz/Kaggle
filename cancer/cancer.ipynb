{
  "cells": [
    {
      "metadata": {
        "_cell_guid": "e2365633-c85f-4e9f-a085-94fd080b585c",
        "_uuid": "9f4fb3e5f6f3db4c0c518e53c3d0075a984bedde",
        "trusted": true
      },
      "cell_type": "code",
      "source": "# This Python 3 environment comes with many helpful analytics libraries installed\n# It is defined by the kaggle/python docker image: https://github.com/kaggle/docker-python\n# For example, here's several helpful packages to load in \n\nimport numpy as np # linear algebra\nimport pandas as pd # data processing, CSV file I/O (e.g. pd.read_csv)\n\n# Input data files are available in the \"../input/\" directory.\n# For example, running this (by clicking run or pressing Shift+Enter) will list the files in the input directory\n\nfrom subprocess import check_output\nprint(check_output([\"ls\", \"../input\"]).decode(\"utf8\"))\n\n# Any results you write to the current directory are saved as output.",
      "execution_count": 1,
      "outputs": [
        {
          "output_type": "stream",
          "text": "submissionFile\ntest_text\ntest_variants\ntraining_text\ntraining_variants\n\n",
          "name": "stdout"
        }
      ]
    },
    {
      "metadata": {
        "collapsed": true,
        "_uuid": "74a2ca05bad8d9fff6d8902758ff85d0f11be0da",
        "_cell_guid": "83d3b7b4-445d-4d3c-93f5-188c1ef9d6a5",
        "trusted": true
      },
      "cell_type": "code",
      "source": "import pandas as pd\nimport numpy as np\n\nfrom sklearn.preprocessing import LabelEncoder\nfrom sklearn.model_selection import train_test_split\nfrom sklearn.linear_model import LogisticRegression\nfrom sklearn.pipeline import Pipeline,FeatureUnion\nfrom sklearn.feature_extraction.text import CountVectorizer\nfrom sklearn.feature_extraction.text import TfidfTransformer\nfrom sklearn.svm import SVC,LinearSVC\nfrom sklearn.decomposition import TruncatedSVD\nfrom sklearn.ensemble import RandomForestClassifier\nimport xgboost as xgb\nimport nltk\n\ntrain_text = pd.read_csv('../input/training_text', sep=\"\\|\\|\", engine='python', header=None, skiprows=1, names=[\"ID\",\"Text\"])\ntrain_variants = pd.read_csv('../input/training_variants')\ntest_text = pd.read_csv('../input/test_text', sep=\"\\|\\|\", engine='python', header=None, skiprows=1, names=[\"ID\",\"Text\"])\ntest_variants = pd.read_csv('../input/test_variants')",
      "execution_count": 2,
      "outputs": []
    },
    {
      "metadata": {
        "_cell_guid": "171ef073-8d2c-41a5-ac45-0517be55930a",
        "_uuid": "c72f3c501c30386cdbdf7e6e9e747c8e8f553a4d",
        "trusted": true
      },
      "cell_type": "code",
      "source": "train_df = pd.merge(train_variants,train_text,how='left',on='ID')\ntest_df = pd.merge(test_variants,test_text,how='left',on='ID')\ncombine_df = pd.concat([train_df,test_df],ignore_index=True)\ntrain_df.info()\ntest_df.info()",
      "execution_count": 3,
      "outputs": [
        {
          "output_type": "stream",
          "text": "<class 'pandas.core.frame.DataFrame'>\nInt64Index: 3321 entries, 0 to 3320\nData columns (total 5 columns):\nID           3321 non-null int64\nGene         3321 non-null object\nVariation    3321 non-null object\nClass        3321 non-null int64\nText         3321 non-null object\ndtypes: int64(2), object(3)\nmemory usage: 155.7+ KB\n<class 'pandas.core.frame.DataFrame'>\nInt64Index: 5668 entries, 0 to 5667\nData columns (total 4 columns):\nID           5668 non-null int64\nGene         5668 non-null object\nVariation    5668 non-null object\nText         5668 non-null object\ndtypes: int64(1), object(3)\nmemory usage: 221.4+ KB\n",
          "name": "stdout"
        }
      ]
    },
    {
      "metadata": {
        "_cell_guid": "44aeb948-ccda-42a9-9385-9cf8c05d9878",
        "_uuid": "f0a283dd3a35464712394bfdd1d1d7476f052f83",
        "trusted": true,
        "collapsed": true
      },
      "cell_type": "code",
      "source": "text_clf = Pipeline([('vect', CountVectorizer(analyzer='word',tokenizer=nltk.word_tokenize,stop_words='english')),\n                     ('tfidf',TfidfTransformer()),\n                     ('clf',SVC(kernel='linear'))\n                    ])\nX_all = train_df['Text']\nY_all = train_df['Class']",
      "execution_count": null,
      "outputs": []
    },
    {
      "metadata": {
        "_cell_guid": "02bbfd3e-3e8d-471e-9a70-fa660cf5c345",
        "_uuid": "e99e0e30855ddc7352de382cf20dca50e321b4eb",
        "trusted": true
      },
      "cell_type": "code",
      "source": "X_train, X_cv, Y_train, Y_cv = train_test_split(X_all, Y_all, test_size=0.2)\ntrain = text_clf.fit(X_train,Y_train)\nY_cv_predict = text_clf.predict(X_cv)\nnp.mean(Y_cv==Y_cv_predict)",
      "execution_count": null,
      "outputs": [
        {
          "output_type": "execute_result",
          "execution_count": 5,
          "data": {
            "text/plain": "0.63909774436090228"
          },
          "metadata": {}
        }
      ]
    },
    {
      "metadata": {
        "_uuid": "a3b4322d766eef4ee24052b4a080eeede2d3c9b0",
        "_cell_guid": "20caebe4-90a4-418c-b7a4-18eb28b4b877",
        "trusted": true,
        "collapsed": true
      },
      "cell_type": "code",
      "source": "text_clf = text_clf.fit(X_all,Y_all)\nY_test = text_clf.predict(test_df)",
      "execution_count": null,
      "outputs": []
    },
    {
      "metadata": {
        "_uuid": "4196e9cc79a8033cc781d3972dce45bfb36267f6",
        "_cell_guid": "b1be07b8-cfff-4b47-a423-a5b991245696",
        "trusted": true
      },
      "cell_type": "code",
      "source": "test_df",
      "execution_count": null,
      "outputs": []
    }
  ],
  "metadata": {
    "language_info": {
      "name": "python",
      "version": "3.6.1",
      "mimetype": "text/x-python",
      "codemirror_mode": {
        "name": "ipython",
        "version": 3
      },
      "pygments_lexer": "ipython3",
      "nbconvert_exporter": "python",
      "file_extension": ".py"
    },
    "kernelspec": {
      "display_name": "Python 3",
      "language": "python",
      "name": "python3"
    }
  },
  "nbformat": 4,
  "nbformat_minor": 1
}