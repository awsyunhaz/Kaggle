{
 "cells": [
  {
   "cell_type": "code",
   "execution_count": 1,
   "metadata": {
    "_cell_guid": "b1076dfc-b9ad-4769-8c92-a6c4dae69d19",
    "_uuid": "8f2839f25d086af736a60e9eeb907d3b93b6e0e5"
   },
   "outputs": [
    {
     "name": "stdout",
     "output_type": "stream",
     "text": [
      "/kaggle/input/ifood-2019-fgvc6/sample_submission.csv\n",
      "/kaggle/input/ifood-2019-fgvc6/class_list.txt\n",
      "/kaggle/input/ifood-2019-fgvc6/train_set.zip\n",
      "/kaggle/input/ifood-2019-fgvc6/train_labels.csv\n",
      "/kaggle/input/ifood-2019-fgvc6/ifood2019_sample_submission.csv\n",
      "/kaggle/input/ifood-2019-fgvc6/val_set.zip\n",
      "/kaggle/input/ifood-2019-fgvc6/test_set.zip\n",
      "/kaggle/input/ifood-2019-fgvc6/val_labels.csv\n"
     ]
    }
   ],
   "source": [
    "# This Python 3 environment comes with many helpful analytics libraries installed\n",
    "# It is defined by the kaggle/python docker image: https://github.com/kaggle/docker-python\n",
    "# For example, here's several helpful packages to load in \n",
    "\n",
    "import numpy as np # linear algebra\n",
    "import pandas as pd # data processing, CSV file I/O (e.g. pd.read_csv)\n",
    "\n",
    "# Input data files are available in the \"../input/\" directory.\n",
    "# For example, running this (by clicking run or pressing Shift+Enter) will list all files under the input directory\n",
    "\n",
    "import os\n",
    "for dirname, _, filenames in os.walk('/kaggle/input'):\n",
    "    for filename in filenames:\n",
    "        print(os.path.join(dirname, filename))\n",
    "\n",
    "os.environ['CUDA_LAUNCH_BLOCKING'] = \"1\"\n",
    "# Any results you write to the current directory are saved as output."
   ]
  },
  {
   "cell_type": "code",
   "execution_count": 2,
   "metadata": {
    "_cell_guid": "79c7e3d0-c299-4dcb-8224-4455121ee9b0",
    "_uuid": "d629ff2d2480ee46fbb7e2d37f6b5fab8052498a"
   },
   "outputs": [
    {
     "name": "stdout",
     "output_type": "stream",
     "text": [
      "unzipping train_set.zip\n",
      "unzipping val_set.zip\n",
      "unzipping test_set.zip\n",
      "./\n",
      "./val_set\n",
      "./test_set\n",
      "./train_set\n"
     ]
    }
   ],
   "source": [
    "from zipfile import ZipFile\n",
    "import shutil\n",
    "import os\n",
    "\n",
    "if not os.path.exists(\"./train_set\"):\n",
    "    for file_name in ['train_set.zip', 'val_set.zip', 'test_set.zip']:\n",
    "        with ZipFile('../input/ifood-2019-fgvc6/' + file_name, 'r') as zipObj:\n",
    "            print(\"unzipping\", file_name)\n",
    "            zipObj.extractall('./')\n",
    "\n",
    "for dirname, _, _ in os.walk('./'):\n",
    "    print(dirname)"
   ]
  },
  {
   "cell_type": "code",
   "execution_count": 3,
   "metadata": {},
   "outputs": [],
   "source": [
    "df_train = pd.read_csv('../input/ifood-2019-fgvc6/train_labels.csv')\n",
    "df_val   = pd.read_csv('../input/ifood-2019-fgvc6/val_labels.csv')\n",
    "df_test = pd.read_csv('../input/ifood-2019-fgvc6/sample_submission.csv')\n",
    "\n",
    "df_train['label'] = df_train['label'].astype(str)\n",
    "df_val['label'] = df_val['label'].astype(str)\n",
    "\n",
    "train_size = df_train.shape[0]\n",
    "val_size = df_val.shape[0]\n",
    "test_size = df_test.shape[0]\n",
    "num_classes = df_train['label'].nunique()"
   ]
  },
  {
   "cell_type": "code",
   "execution_count": 4,
   "metadata": {},
   "outputs": [],
   "source": [
    "for ind, item in df_train.iterrows():\n",
    "    if not os.path.exists(\"./train_set/\" + item['label']):\n",
    "        os.mkdir(\"./train_set/\" + item['label'])\n",
    "    os.rename(\"./train_set/\"+item['img_name'], \"./train_set/\"+item['label']+\"/\"+item['img_name'])\n",
    "    \n",
    "for ind, item in df_val.iterrows():\n",
    "    if not os.path.exists(\"./val_set/\" + item['label']):\n",
    "        os.mkdir(\"./val_set/\" + item['label'])\n",
    "    os.rename(\"./val_set/\"+item['img_name'], \"./val_set/\"+item['label']+\"/\"+item['img_name'])\n",
    "\n",
    "os.mkdir(\"./test_set/0\")\n",
    "for ind, item in df_test.iterrows():\n",
    "    os.rename(\"./test_set/\"+item['img_name'], \"./test_set/0/\"+item['img_name'])"
   ]
  },
  {
   "cell_type": "code",
   "execution_count": 5,
   "metadata": {},
   "outputs": [],
   "source": [
    "import torch\n",
    "import torchvision\n",
    "import torchvision.transforms as T\n",
    "import torch.nn as nn\n",
    "import torch.optim as optim\n",
    "import torch.nn.functional as F\n",
    "from torch.utils.data import DataLoader\n",
    "from torch.utils.data import sampler\n",
    "\n",
    "NUM_TRAIN = 10000\n",
    "NUM_VAL = 1000\n",
    "BATCH_SIZE = 64\n",
    "\n",
    "transform_train = T.Compose([\n",
    "    T.RandomResizedCrop(224),\n",
    "    T.RandomHorizontalFlip(),\n",
    "    T.ToTensor(),\n",
    "    T.Normalize([0.485, 0.456, 0.406], [0.229, 0.224, 0.225])\n",
    "])\n",
    "\n",
    "transform_test = T.Compose([\n",
    "    T.Resize(256),\n",
    "    T.CenterCrop(224),\n",
    "    T.ToTensor(),\n",
    "    T.Normalize([0.485, 0.456, 0.406], [0.229, 0.224, 0.225])\n",
    "])\n",
    "\n",
    "data_train = torchvision.datasets.ImageFolder(\n",
    "                root=\"./train_set\",\n",
    "                transform=transform_train\n",
    "            )\n",
    "# loader_train = DataLoader(data_train, batch_size=BATCH_SIZE, \n",
    "#                           sampler=sampler.SubsetRandomSampler(range(NUM_TRAIN)))\n",
    "loader_train = DataLoader(data_train, batch_size=BATCH_SIZE, shuffle=True)\n",
    "data_val = torchvision.datasets.ImageFolder(\n",
    "                root=\"./val_set\",\n",
    "                transform=transform_test\n",
    "            )\n",
    "# loader_val = DataLoader(data_val, batch_size=BATCH_SIZE,\n",
    "#                        sampler=sampler.SubsetRandomSampler(range(NUM_VAL)))\n",
    "loader_val = DataLoader(data_val, batch_size=BATCH_SIZE, shuffle=False)\n",
    "data_test = torchvision.datasets.ImageFolder(\n",
    "                root=\"./test_set\",\n",
    "                transform=transform_test\n",
    "            )\n",
    "loader_test = DataLoader(data_test, batch_size=BATCH_SIZE, shuffle=False)"
   ]
  },
  {
   "cell_type": "code",
   "execution_count": 6,
   "metadata": {},
   "outputs": [
    {
     "name": "stdout",
     "output_type": "stream",
     "text": [
      "batch data shape:  torch.Size([64, 3, 224, 224])\n",
      "batch label shape:  torch.Size([64])\n"
     ]
    }
   ],
   "source": [
    "images, labels = next(iter(loader_train))\n",
    "print(\"batch data shape: \", images.shape)\n",
    "print(\"batch label shape: \", labels.shape)"
   ]
  },
  {
   "cell_type": "code",
   "execution_count": 7,
   "metadata": {},
   "outputs": [
    {
     "name": "stdout",
     "output_type": "stream",
     "text": [
      "using device: cuda\n"
     ]
    }
   ],
   "source": [
    "USE_GPU = True\n",
    "\n",
    "dtype = torch.float32 # we will be using float throughout this tutorial\n",
    "\n",
    "if USE_GPU and torch.cuda.is_available():\n",
    "    device = torch.device('cuda')\n",
    "else:\n",
    "    device = torch.device('cpu')\n",
    "\n",
    "print('using device:', device)"
   ]
  },
  {
   "cell_type": "code",
   "execution_count": 8,
   "metadata": {},
   "outputs": [],
   "source": [
    "import time\n",
    "\n",
    "def train(model, optimizer, epochs=1, print_every=100):\n",
    "    global best_loss\n",
    "    model = model.to(device=device)  # move the model parameters to CPU/GPU\n",
    "    model.train() \n",
    "\n",
    "    since = time.time()\n",
    "    for e in range(epochs):\n",
    "        print('Epoch %d, time_elapsed = %d' % (e, time.time()-since))\n",
    "        train_loss = 0\n",
    "        for t, (img, _) in enumerate(loader_train):\n",
    "            img = img.to(device=device, dtype=dtype)\n",
    "\n",
    "            # forward\n",
    "            output = model(img)\n",
    "            loss = criterion(output, img)\n",
    "            train_loss += loss.item()*img.size(0)\n",
    "\n",
    "            # backward\n",
    "            optimizer.zero_grad()\n",
    "            loss.backward()\n",
    "            optimizer.step()\n",
    "        \n",
    "        print('train: loss (%.2f)' % (train_loss/train_size))\n",
    "        val_loss = evaluate(loader_val, model)\n",
    "        print()\n",
    "        \n",
    "        if val_loss < best_loss:\n",
    "            best_loss = val_loss\n",
    "            torch.save(model.state_dict(), 'autoencoder.pth.tar')"
   ]
  },
  {
   "cell_type": "code",
   "execution_count": 9,
   "metadata": {},
   "outputs": [],
   "source": [
    "def evaluate(loader, model):\n",
    "    model.eval()  # set model to evaluation mode\n",
    "    \n",
    "    with torch.no_grad():\n",
    "        for img, _ in loader:\n",
    "            img = img.to(device=device, dtype=dtype)  # move to device, e.g. GPU\n",
    "            output = model(img)\n",
    "            loss = criterion(output, img)\n",
    "\n",
    "        print('val: loss (%.2f)' % loss)\n",
    "        return loss"
   ]
  },
  {
   "cell_type": "code",
   "execution_count": 10,
   "metadata": {},
   "outputs": [],
   "source": [
    "class autoencoder(nn.Module):\n",
    "    def __init__(self):\n",
    "        super(autoencoder, self).__init__()\n",
    "        self.encoder = nn.Sequential(\n",
    "            nn.Conv2d(3, 32, (3, 3), padding=1),\n",
    "            nn.ReLU(),\n",
    "            nn.MaxPool2d(kernel_size=2, stride=2),\n",
    "            nn.Conv2d(32, 16, (3, 3), padding=1),\n",
    "            nn.ReLU(),\n",
    "            nn.MaxPool2d(kernel_size=2, stride=2),\n",
    "            nn.Conv2d(16, 8, (3, 3), padding=1),\n",
    "            nn.ReLU(),\n",
    "            nn.MaxPool2d(kernel_size=2, stride=2),\n",
    "        )\n",
    "        # 8*28*28\n",
    "        self.decoder = nn.Sequential(\n",
    "            nn.ConvTranspose2d(8, 8, (3, 3), stride=2, padding=1, output_padding=1),\n",
    "            nn.ReLU(),\n",
    "            nn.ConvTranspose2d(8, 16, (3, 3), stride=2, padding=1, output_padding=1),\n",
    "            nn.ReLU(),\n",
    "            nn.ConvTranspose2d(16, 32, (3, 3), stride=2, padding=1, output_padding=1),\n",
    "            nn.ReLU(),\n",
    "            nn.ConvTranspose2d(32, 3, (3, 3), padding=1),\n",
    "            nn.Tanh(),\n",
    "        )\n",
    "\n",
    "    def forward(self, x):\n",
    "        x = self.encoder(x)\n",
    "        x = self.decoder(x)\n",
    "        return x\n",
    "\n",
    "\n",
    "learning_rate = 1e-3\n",
    "model = autoencoder()\n",
    "criterion = nn.MSELoss()\n",
    "optimizer = torch.optim.Adam(model.parameters(), lr=learning_rate)"
   ]
  },
  {
   "cell_type": "code",
   "execution_count": 11,
   "metadata": {},
   "outputs": [
    {
     "name": "stdout",
     "output_type": "stream",
     "text": [
      "Epoch 0, time_elapsed = 0\n",
      "train: loss (0.44)\n",
      "val: loss (0.32)\n",
      "\n",
      "Epoch 1, time_elapsed = 871\n",
      "train: loss (0.37)\n",
      "val: loss (0.31)\n",
      "\n",
      "Epoch 2, time_elapsed = 1739\n",
      "train: loss (0.36)\n",
      "val: loss (0.31)\n",
      "\n",
      "Epoch 3, time_elapsed = 2615\n",
      "train: loss (0.36)\n",
      "val: loss (0.30)\n",
      "\n",
      "Epoch 4, time_elapsed = 3495\n",
      "train: loss (0.36)\n",
      "val: loss (0.30)\n",
      "\n",
      "Epoch 5, time_elapsed = 4378\n",
      "train: loss (0.36)\n",
      "val: loss (0.30)\n",
      "\n",
      "Epoch 6, time_elapsed = 5266\n",
      "train: loss (0.36)\n",
      "val: loss (0.30)\n",
      "\n",
      "Epoch 7, time_elapsed = 6141\n",
      "train: loss (0.35)\n",
      "val: loss (0.30)\n",
      "\n",
      "Epoch 8, time_elapsed = 7018\n",
      "train: loss (0.35)\n",
      "val: loss (0.30)\n",
      "\n",
      "Epoch 9, time_elapsed = 7898\n",
      "train: loss (0.35)\n",
      "val: loss (0.30)\n",
      "\n"
     ]
    }
   ],
   "source": [
    "best_loss = 1000\n",
    "train(model, optimizer, epochs=10, print_every=100)"
   ]
  },
  {
   "cell_type": "code",
   "execution_count": 12,
   "metadata": {},
   "outputs": [],
   "source": [
    "# y_pred = predict(loader_test, model)\n",
    "# df_test['label'] = [' '.join(item) for item in y_pred.cpu().numpy().astype(str)]\n",
    "# df_test.to_csv(\"submission.csv\", index=False)"
   ]
  },
  {
   "cell_type": "code",
   "execution_count": 13,
   "metadata": {},
   "outputs": [],
   "source": [
    "for path in [\"./train_set\", \"./val_set\", \"./test_set\"]:\n",
    "    shutil.rmtree(path)"
   ]
  }
 ],
 "metadata": {
  "kernelspec": {
   "display_name": "Python 3",
   "language": "python",
   "name": "python3"
  },
  "language_info": {
   "codemirror_mode": {
    "name": "ipython",
    "version": 3
   },
   "file_extension": ".py",
   "mimetype": "text/x-python",
   "name": "python",
   "nbconvert_exporter": "python",
   "pygments_lexer": "ipython3",
   "version": "3.6.6"
  }
 },
 "nbformat": 4,
 "nbformat_minor": 4
}
